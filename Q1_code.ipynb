{
 "cells": [
  {
   "cell_type": "code",
   "execution_count": 3,
   "id": "067a37e9",
   "metadata": {},
   "outputs": [
    {
     "name": "stdout",
     "output_type": "stream",
     "text": [
      "Requirement already satisfied: pandas in c:\\anaconda\\lib\\site-packages (1.3.4)\n",
      "Requirement already satisfied: numpy in c:\\anaconda\\lib\\site-packages (1.22.4)\n",
      "Requirement already satisfied: matplotlib in c:\\anaconda\\lib\\site-packages (3.4.3)\n",
      "Collecting python-pptx\n",
      "  Downloading python_pptx-1.0.2-py3-none-any.whl (472 kB)\n",
      "Requirement already satisfied: python-dateutil>=2.7.3 in c:\\anaconda\\lib\\site-packages (from pandas) (2.8.2)\n",
      "Requirement already satisfied: pytz>=2017.3 in c:\\anaconda\\lib\\site-packages (from pandas) (2021.3)\n",
      "Requirement already satisfied: cycler>=0.10 in c:\\anaconda\\lib\\site-packages (from matplotlib) (0.10.0)\n",
      "Requirement already satisfied: pyparsing>=2.2.1 in c:\\anaconda\\lib\\site-packages (from matplotlib) (3.0.4)\n",
      "Requirement already satisfied: kiwisolver>=1.0.1 in c:\\anaconda\\lib\\site-packages (from matplotlib) (1.3.1)\n",
      "Requirement already satisfied: pillow>=6.2.0 in c:\\anaconda\\lib\\site-packages (from matplotlib) (8.4.0)\n",
      "Requirement already satisfied: lxml>=3.1.0 in c:\\anaconda\\lib\\site-packages (from python-pptx) (4.6.3)\n",
      "Collecting typing-extensions>=4.9.0\n",
      "  Downloading typing_extensions-4.15.0-py3-none-any.whl (44 kB)\n",
      "Requirement already satisfied: XlsxWriter>=0.5.7 in c:\\anaconda\\lib\\site-packages (from python-pptx) (3.0.1)\n",
      "Requirement already satisfied: six in c:\\anaconda\\lib\\site-packages (from cycler>=0.10->matplotlib) (1.16.0)\n",
      "Installing collected packages: typing-extensions, python-pptx\n",
      "  Attempting uninstall: typing-extensions\n",
      "    Found existing installation: typing-extensions 3.10.0.2\n",
      "    Uninstalling typing-extensions-3.10.0.2:\n",
      "      Successfully uninstalled typing-extensions-3.10.0.2\n",
      "Successfully installed python-pptx-1.0.2 typing-extensions-4.15.0\n"
     ]
    }
   ],
   "source": [
    "!pip install pandas numpy matplotlib python-pptx"
   ]
  },
  {
   "cell_type": "code",
   "execution_count": 5,
   "id": "a506d9da",
   "metadata": {},
   "outputs": [
    {
     "name": "stdout",
     "output_type": "stream",
     "text": [
      "Loading data...\n",
      "Loaded 9168 rows and 23 columns\n",
      "Computing summaries...\n",
      "Computing brand KPIs and category mix...\n",
      "Creating charts...\n",
      "Created 9 chart files in C:\\Users\\HP\\xyz_output\n",
      "Building PowerPoint deck...\n",
      "Deck saved to: C:\\Users\\HP\\xyz_output\\XYZ_Beauty_Insights.pptx\n",
      "\n",
      "Done.\n",
      "Outputs (in C:\\Users\\HP\\xyz_output):\n",
      "  - Charts: PNG files (prefix 01_..)\n",
      "  - Deck: XYZ_Beauty_Insights.pptx\n",
      "  - Tables CSVs: C:\\Users\\HP\\xyz_output\\tables\n",
      "\n"
     ]
    }
   ],
   "source": [
    "%run xyz_beauty_analysis.py"
   ]
  },
  {
   "cell_type": "code",
   "execution_count": null,
   "id": "d1be39f5",
   "metadata": {},
   "outputs": [],
   "source": []
  }
 ],
 "metadata": {
  "kernelspec": {
   "display_name": "Python 3 (ipykernel)",
   "language": "python",
   "name": "python3"
  },
  "language_info": {
   "codemirror_mode": {
    "name": "ipython",
    "version": 3
   },
   "file_extension": ".py",
   "mimetype": "text/x-python",
   "name": "python",
   "nbconvert_exporter": "python",
   "pygments_lexer": "ipython3",
   "version": "3.9.7"
  }
 },
 "nbformat": 4,
 "nbformat_minor": 5
}
